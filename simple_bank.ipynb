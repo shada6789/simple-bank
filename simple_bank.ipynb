{
  "nbformat": 4,
  "nbformat_minor": 0,
  "metadata": {
    "colab": {
      "provenance": []
    },
    "kernelspec": {
      "name": "python3",
      "display_name": "Python 3"
    },
    "language_info": {
      "name": "python"
    }
  },
  "cells": [
    {
      "cell_type": "code",
      "execution_count": 4,
      "metadata": {
        "colab": {
          "base_uri": "https://localhost:8080/"
        },
        "id": "k0Gwsu6Fr6k5",
        "outputId": "eb9c8212-5af5-46d2-b1c1-bfcaf04ecf55"
      },
      "outputs": [
        {
          "output_type": "stream",
          "name": "stdout",
          "text": [
            "    name  salary  withdraw  phone number\n",
            "0  majid     990       500         12345\n",
            "1   jury     890       200         45612\n",
            "2    ali    1000       400         67895\n"
          ]
        }
      ],
      "source": [
        "import pandas as pd\n",
        "client1=['majid',990,500,12345]\n",
        "client2=['jury',890,200,45612]\n",
        "client3=['ali',1000,400,67895]\n",
        "df=pd.DataFrame([client1,client2,client3],columns=['name','salary','withdraw','phone number'])\n",
        "print(df)"
      ]
    }
  ]
}